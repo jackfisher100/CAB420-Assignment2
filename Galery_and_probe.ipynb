{
 "cells": [
  {
   "cell_type": "markdown",
   "metadata": {},
   "source": [
    "# Load in Data"
   ]
  },
  {
   "cell_type": "code",
   "execution_count": 10,
   "metadata": {},
   "outputs": [],
   "source": [
    "import preprocessing\n",
    "import os\n",
    "import random\n",
    "import shutil"
   ]
  },
  {
   "cell_type": "code",
   "execution_count": 15,
   "metadata": {},
   "outputs": [],
   "source": [
    "max_dogs = 119\n",
    "path = './Processed_Images_Square/'\n",
    "\n",
    "try:\n",
    "    shutil.rmtree('./probe')\n",
    "    shutil.rmtree('./gallery')\n",
    "except:\n",
    "    pass\n",
    "\n",
    "\n",
    "os.mkdir('./probe')\n",
    "os.mkdir('./gallery')\n",
    "\n",
    "\n",
    "probe = {}\n",
    "gallery = {}\n",
    "\n",
    "files = os.listdir(path)\n",
    "random.shuffle(files)\n",
    "\n",
    "# Loop through files in the directory\n",
    "for filename in files:\n",
    "\n",
    "    breed = filename.split('_')[0]\n",
    "\n",
    "    if breed not in probe.keys():\n",
    "        probe[breed] = filename\n",
    "\n",
    "    elif breed not in gallery.keys():\n",
    "        gallery[breed] = filename\n",
    "  \n",
    "\n",
    "\n",
    "for breed in probe:\n",
    "    os.replace(path+probe[breed], \"./probe/\"+probe[breed])\n",
    "\n",
    "for breed in gallery:\n",
    "    os.replace(path+gallery[breed], \"./gallery/\"+gallery[breed])\n",
    "\n"
   ]
  }
 ],
 "metadata": {
  "kernelspec": {
   "display_name": "Python 3",
   "language": "python",
   "name": "python3"
  },
  "language_info": {
   "codemirror_mode": {
    "name": "ipython",
    "version": 3
   },
   "file_extension": ".py",
   "mimetype": "text/x-python",
   "name": "python",
   "nbconvert_exporter": "python",
   "pygments_lexer": "ipython3",
   "version": "3.10.12"
  }
 },
 "nbformat": 4,
 "nbformat_minor": 2
}
