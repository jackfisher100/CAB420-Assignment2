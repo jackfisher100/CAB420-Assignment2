{
 "cells": [
  {
   "cell_type": "code",
   "execution_count": null,
   "metadata": {},
   "outputs": [],
   "source": [
    "import os\n",
    "def make_testing_folder():\n",
    "\n",
    "    if os.path.exists('./test') == False:\n",
    "        os.mkdir('./test')\n",
    "\n",
    "        breed_count = {}\n",
    "\n",
    "        for root, dirs, files in os.walk('./train'):\n",
    "            for file in files:\n",
    "                breed = file.split('_')[0]\n",
    "\n",
    "                if breed not in breed_count:\n",
    "                    breed_count[breed] = 1\n",
    "                else:\n",
    "                    breed_count[breed] += 1\n",
    "\n",
    "                if breed_count[breed] < 20:\n",
    "                    print('Moving', os.path.join(root, file))\n",
    "                    os.rename(os.path.join(root, file), os.path.join('./test', file))\n",
    "\n",
    "    else:\n",
    "        print('Test folder already exists. Skipping.')\n",
    "\n",
    "\n",
    "make_testing_folder()"
   ]
  }
 ],
 "metadata": {
  "language_info": {
   "name": "python"
  }
 },
 "nbformat": 4,
 "nbformat_minor": 2
}
